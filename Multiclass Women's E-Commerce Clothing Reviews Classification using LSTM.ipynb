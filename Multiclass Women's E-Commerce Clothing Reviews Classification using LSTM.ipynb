{
  "nbformat": 4,
  "nbformat_minor": 0,
  "metadata": {
    "colab": {
      "name": "Submission 1 NLP  - Almas.ipynb",
      "provenance": [],
      "collapsed_sections": []
    },
    "kernelspec": {
      "name": "python3",
      "display_name": "Python 3"
    },
    "language_info": {
      "name": "python"
    }
  },
  "cells": [
    {
      "cell_type": "markdown",
      "metadata": {
        "id": "JclgG1tMY-0V"
      },
      "source": [
        "**Almas Fathin Irbah**\n",
        "> Dataset : \"Women's E-Commerce Clothing Reviews\" \\\n",
        "> Sumber : Kaggle \\\n",
        "> Link Dataset : https://www.kaggle.com/nicapotato/womens-ecommerce-clothing-reviews"
      ]
    },
    {
      "cell_type": "markdown",
      "metadata": {
        "id": "b_3QBQpia-AD"
      },
      "source": [
        "# **Preparation**"
      ]
    },
    {
      "cell_type": "code",
      "metadata": {
        "id": "ZhqeFWHys8UV"
      },
      "source": [
        "from google.colab import drive\n",
        "\n",
        "# u/ dataframe\n",
        "import pandas as pd\n",
        "import re\n",
        "\n",
        "# u/ split data\n",
        "from sklearn.model_selection import train_test_split\n",
        "\n",
        "# u/ preprocessing dan layer\n",
        "import tensorflow as tf\n",
        "from tensorflow.keras.preprocessing.text import Tokenizer\n",
        "from tensorflow.keras.preprocessing.sequence import pad_sequences\n",
        "from tensorflow.keras.layers import LSTM,Dense,Embedding,Dropout\n",
        "from tensorflow.keras.models import Sequential\n",
        "from tensorflow.keras.optimizers import Adam\n",
        "from keras.models import Sequential\n",
        "from keras.layers import Embedding, Activation, Dense, Softmax, Dropout, SpatialDropout1D\n",
        "from keras.layers.recurrent import LSTM\n",
        "\n",
        "# u/ visualisasi plot\n",
        "import matplotlib.pyplot as plt"
      ],
      "execution_count": 1,
      "outputs": []
    },
    {
      "cell_type": "markdown",
      "metadata": {
        "id": "eTxKVIqlZcwB"
      },
      "source": [
        "## Mount to Drive"
      ]
    },
    {
      "cell_type": "code",
      "metadata": {
        "colab": {
          "base_uri": "https://localhost:8080/"
        },
        "id": "oU6Vt90JZiLU",
        "outputId": "98de87ec-d85a-4312-a42e-42c1e945191b"
      },
      "source": [
        "drive.mount('/content/drive/')"
      ],
      "execution_count": 2,
      "outputs": [
        {
          "output_type": "stream",
          "text": [
            "Mounted at /content/drive/\n"
          ],
          "name": "stdout"
        }
      ]
    },
    {
      "cell_type": "code",
      "metadata": {
        "colab": {
          "base_uri": "https://localhost:8080/"
        },
        "id": "HJ3FKQzWeXHF",
        "outputId": "5e27990e-1f65-4aa4-88d5-d1ce2e8a49b6"
      },
      "source": [
        "# check the path\n",
        "!pwd"
      ],
      "execution_count": 3,
      "outputs": [
        {
          "output_type": "stream",
          "text": [
            "/content\n"
          ],
          "name": "stdout"
        }
      ]
    },
    {
      "cell_type": "code",
      "metadata": {
        "colab": {
          "base_uri": "https://localhost:8080/"
        },
        "id": "SFSNEAZfeaaC",
        "outputId": "3f1ddab2-1e58-4653-d8b5-2437ffd1f52e"
      },
      "source": [
        "# change folder\n",
        "%cd '/content/drive/My Drive/Submission Dicoding'"
      ],
      "execution_count": 5,
      "outputs": [
        {
          "output_type": "stream",
          "text": [
            "/content/drive/My Drive/Submission Dicoding\n"
          ],
          "name": "stdout"
        }
      ]
    },
    {
      "cell_type": "code",
      "metadata": {
        "colab": {
          "base_uri": "https://localhost:8080/"
        },
        "id": "rs23rPB0ekeg",
        "outputId": "e79b3cbe-239e-4f3d-a454-b9dd354718e2"
      },
      "source": [
        "# check file in folder\n",
        "!ls"
      ],
      "execution_count": 6,
      "outputs": [
        {
          "output_type": "stream",
          "text": [
            "'Womens Clothing E-Commerce Reviews.csv'\n"
          ],
          "name": "stdout"
        }
      ]
    },
    {
      "cell_type": "markdown",
      "metadata": {
        "id": "fCEcG3cpbIBS"
      },
      "source": [
        "# **Cleaning the Data**"
      ]
    },
    {
      "cell_type": "code",
      "metadata": {
        "colab": {
          "base_uri": "https://localhost:8080/",
          "height": 204
        },
        "id": "u37uXU2LZpW_",
        "outputId": "b757e220-c983-45f7-972b-91647db1c556"
      },
      "source": [
        "# read the Dataset\n",
        "df = pd.read_csv(\"Womens Clothing E-Commerce Reviews.csv\")\n",
        "cols = ['Review Text', 'Recommended IND']\n",
        "df = pd.read_csv('Womens Clothing E-Commerce Reviews.csv', usecols = cols)\n",
        "df.head()"
      ],
      "execution_count": 7,
      "outputs": [
        {
          "output_type": "execute_result",
          "data": {
            "text/html": [
              "<div>\n",
              "<style scoped>\n",
              "    .dataframe tbody tr th:only-of-type {\n",
              "        vertical-align: middle;\n",
              "    }\n",
              "\n",
              "    .dataframe tbody tr th {\n",
              "        vertical-align: top;\n",
              "    }\n",
              "\n",
              "    .dataframe thead th {\n",
              "        text-align: right;\n",
              "    }\n",
              "</style>\n",
              "<table border=\"1\" class=\"dataframe\">\n",
              "  <thead>\n",
              "    <tr style=\"text-align: right;\">\n",
              "      <th></th>\n",
              "      <th>Review Text</th>\n",
              "      <th>Recommended IND</th>\n",
              "    </tr>\n",
              "  </thead>\n",
              "  <tbody>\n",
              "    <tr>\n",
              "      <th>0</th>\n",
              "      <td>Absolutely wonderful - silky and sexy and comf...</td>\n",
              "      <td>1</td>\n",
              "    </tr>\n",
              "    <tr>\n",
              "      <th>1</th>\n",
              "      <td>Love this dress!  it's sooo pretty.  i happene...</td>\n",
              "      <td>1</td>\n",
              "    </tr>\n",
              "    <tr>\n",
              "      <th>2</th>\n",
              "      <td>I had such high hopes for this dress and reall...</td>\n",
              "      <td>0</td>\n",
              "    </tr>\n",
              "    <tr>\n",
              "      <th>3</th>\n",
              "      <td>I love, love, love this jumpsuit. it's fun, fl...</td>\n",
              "      <td>1</td>\n",
              "    </tr>\n",
              "    <tr>\n",
              "      <th>4</th>\n",
              "      <td>This shirt is very flattering to all due to th...</td>\n",
              "      <td>1</td>\n",
              "    </tr>\n",
              "  </tbody>\n",
              "</table>\n",
              "</div>"
            ],
            "text/plain": [
              "                                         Review Text  Recommended IND\n",
              "0  Absolutely wonderful - silky and sexy and comf...                1\n",
              "1  Love this dress!  it's sooo pretty.  i happene...                1\n",
              "2  I had such high hopes for this dress and reall...                0\n",
              "3  I love, love, love this jumpsuit. it's fun, fl...                1\n",
              "4  This shirt is very flattering to all due to th...                1"
            ]
          },
          "metadata": {
            "tags": []
          },
          "execution_count": 7
        }
      ]
    },
    {
      "cell_type": "code",
      "metadata": {
        "colab": {
          "base_uri": "https://localhost:8080/"
        },
        "id": "ChlOqC0I_D2q",
        "outputId": "f5838c4d-9c1a-489b-cb25-defe72688580"
      },
      "source": [
        "# simple data checking - get dataframe general information\n",
        "df.info()"
      ],
      "execution_count": 8,
      "outputs": [
        {
          "output_type": "stream",
          "text": [
            "<class 'pandas.core.frame.DataFrame'>\n",
            "RangeIndex: 23486 entries, 0 to 23485\n",
            "Data columns (total 2 columns):\n",
            " #   Column           Non-Null Count  Dtype \n",
            "---  ------           --------------  ----- \n",
            " 0   Review Text      22641 non-null  object\n",
            " 1   Recommended IND  23486 non-null  int64 \n",
            "dtypes: int64(1), object(1)\n",
            "memory usage: 367.1+ KB\n"
          ],
          "name": "stdout"
        }
      ]
    },
    {
      "cell_type": "code",
      "metadata": {
        "colab": {
          "base_uri": "https://localhost:8080/"
        },
        "id": "5dkgpSdNAna-",
        "outputId": "3b5d836c-2e84-448b-99ba-57b541e2a96e"
      },
      "source": [
        "# simple data checking - get row and column of dataframe\n",
        "print(df.shape)"
      ],
      "execution_count": 9,
      "outputs": [
        {
          "output_type": "stream",
          "text": [
            "(23486, 2)\n"
          ],
          "name": "stdout"
        }
      ]
    },
    {
      "cell_type": "code",
      "metadata": {
        "colab": {
          "base_uri": "https://localhost:8080/"
        },
        "id": "IoeixrGXA3ab",
        "outputId": "0a13100b-3487-49bb-eceb-70aa1865fada"
      },
      "source": [
        "# simple data checking - get columns name\n",
        "print(df.columns)"
      ],
      "execution_count": 10,
      "outputs": [
        {
          "output_type": "stream",
          "text": [
            "Index(['Review Text', 'Recommended IND'], dtype='object')\n"
          ],
          "name": "stdout"
        }
      ]
    },
    {
      "cell_type": "code",
      "metadata": {
        "colab": {
          "base_uri": "https://localhost:8080/"
        },
        "id": "ovPVI2vrA-pA",
        "outputId": "9891bc14-dd89-4751-8339-3c3c855a0a5c"
      },
      "source": [
        "# check standard missing value - multiple column\n",
        "missing_data = df.isnull()\n",
        "for column in missing_data.columns.values.tolist():\n",
        "    print(column)\n",
        "    print (missing_data[column].value_counts())\n",
        "    print(\"\") "
      ],
      "execution_count": 11,
      "outputs": [
        {
          "output_type": "stream",
          "text": [
            "Review Text\n",
            "False    22641\n",
            "True       845\n",
            "Name: Review Text, dtype: int64\n",
            "\n",
            "Recommended IND\n",
            "False    23486\n",
            "Name: Recommended IND, dtype: int64\n",
            "\n"
          ],
          "name": "stdout"
        }
      ]
    },
    {
      "cell_type": "code",
      "metadata": {
        "colab": {
          "base_uri": "https://localhost:8080/",
          "height": 419
        },
        "id": "uO_RaD7fDuZA",
        "outputId": "6f02e4e3-d7d5-48bd-db33-bc2840c6ddc7"
      },
      "source": [
        "# check standard missing value - Review Text column\n",
        "df[df['Review Text'].isnull()]"
      ],
      "execution_count": 12,
      "outputs": [
        {
          "output_type": "execute_result",
          "data": {
            "text/html": [
              "<div>\n",
              "<style scoped>\n",
              "    .dataframe tbody tr th:only-of-type {\n",
              "        vertical-align: middle;\n",
              "    }\n",
              "\n",
              "    .dataframe tbody tr th {\n",
              "        vertical-align: top;\n",
              "    }\n",
              "\n",
              "    .dataframe thead th {\n",
              "        text-align: right;\n",
              "    }\n",
              "</style>\n",
              "<table border=\"1\" class=\"dataframe\">\n",
              "  <thead>\n",
              "    <tr style=\"text-align: right;\">\n",
              "      <th></th>\n",
              "      <th>Review Text</th>\n",
              "      <th>Recommended IND</th>\n",
              "    </tr>\n",
              "  </thead>\n",
              "  <tbody>\n",
              "    <tr>\n",
              "      <th>92</th>\n",
              "      <td>NaN</td>\n",
              "      <td>1</td>\n",
              "    </tr>\n",
              "    <tr>\n",
              "      <th>93</th>\n",
              "      <td>NaN</td>\n",
              "      <td>1</td>\n",
              "    </tr>\n",
              "    <tr>\n",
              "      <th>98</th>\n",
              "      <td>NaN</td>\n",
              "      <td>1</td>\n",
              "    </tr>\n",
              "    <tr>\n",
              "      <th>135</th>\n",
              "      <td>NaN</td>\n",
              "      <td>1</td>\n",
              "    </tr>\n",
              "    <tr>\n",
              "      <th>142</th>\n",
              "      <td>NaN</td>\n",
              "      <td>1</td>\n",
              "    </tr>\n",
              "    <tr>\n",
              "      <th>...</th>\n",
              "      <td>...</td>\n",
              "      <td>...</td>\n",
              "    </tr>\n",
              "    <tr>\n",
              "      <th>23258</th>\n",
              "      <td>NaN</td>\n",
              "      <td>1</td>\n",
              "    </tr>\n",
              "    <tr>\n",
              "      <th>23301</th>\n",
              "      <td>NaN</td>\n",
              "      <td>1</td>\n",
              "    </tr>\n",
              "    <tr>\n",
              "      <th>23303</th>\n",
              "      <td>NaN</td>\n",
              "      <td>1</td>\n",
              "    </tr>\n",
              "    <tr>\n",
              "      <th>23470</th>\n",
              "      <td>NaN</td>\n",
              "      <td>1</td>\n",
              "    </tr>\n",
              "    <tr>\n",
              "      <th>23480</th>\n",
              "      <td>NaN</td>\n",
              "      <td>1</td>\n",
              "    </tr>\n",
              "  </tbody>\n",
              "</table>\n",
              "<p>845 rows × 2 columns</p>\n",
              "</div>"
            ],
            "text/plain": [
              "      Review Text  Recommended IND\n",
              "92            NaN                1\n",
              "93            NaN                1\n",
              "98            NaN                1\n",
              "135           NaN                1\n",
              "142           NaN                1\n",
              "...           ...              ...\n",
              "23258         NaN                1\n",
              "23301         NaN                1\n",
              "23303         NaN                1\n",
              "23470         NaN                1\n",
              "23480         NaN                1\n",
              "\n",
              "[845 rows x 2 columns]"
            ]
          },
          "metadata": {
            "tags": []
          },
          "execution_count": 12
        }
      ]
    },
    {
      "cell_type": "code",
      "metadata": {
        "colab": {
          "base_uri": "https://localhost:8080/"
        },
        "id": "ID0MI5PHEJlj",
        "outputId": "9ad07877-eb24-4084-cc4f-d7f2e45678fa"
      },
      "source": [
        "# drop the Dataset\n",
        "df = df.dropna()\n",
        "print(df)"
      ],
      "execution_count": 13,
      "outputs": [
        {
          "output_type": "stream",
          "text": [
            "                                             Review Text  Recommended IND\n",
            "0      Absolutely wonderful - silky and sexy and comf...                1\n",
            "1      Love this dress!  it's sooo pretty.  i happene...                1\n",
            "2      I had such high hopes for this dress and reall...                0\n",
            "3      I love, love, love this jumpsuit. it's fun, fl...                1\n",
            "4      This shirt is very flattering to all due to th...                1\n",
            "...                                                  ...              ...\n",
            "23481  I was very happy to snag this dress at such a ...                1\n",
            "23482  It reminds me of maternity clothes. soft, stre...                1\n",
            "23483  This fit well, but the top was very see throug...                0\n",
            "23484  I bought this dress for a wedding i have this ...                1\n",
            "23485  This dress in a lovely platinum is feminine an...                1\n",
            "\n",
            "[22641 rows x 2 columns]\n"
          ],
          "name": "stdout"
        }
      ]
    },
    {
      "cell_type": "code",
      "metadata": {
        "colab": {
          "base_uri": "https://localhost:8080/",
          "height": 204
        },
        "id": "gOE18Fn37LVp",
        "outputId": "5284fe33-82e2-4178-83ba-46563ce10574"
      },
      "source": [
        "# replacing the row values \n",
        "df['Recommended IND'] = df['Recommended IND'].apply(str)\n",
        "df['Recommended IND'].replace(to_replace = ['0','1'], value = ['Not recommended','Recommended'], inplace=True)\n",
        "df.head()"
      ],
      "execution_count": 14,
      "outputs": [
        {
          "output_type": "execute_result",
          "data": {
            "text/html": [
              "<div>\n",
              "<style scoped>\n",
              "    .dataframe tbody tr th:only-of-type {\n",
              "        vertical-align: middle;\n",
              "    }\n",
              "\n",
              "    .dataframe tbody tr th {\n",
              "        vertical-align: top;\n",
              "    }\n",
              "\n",
              "    .dataframe thead th {\n",
              "        text-align: right;\n",
              "    }\n",
              "</style>\n",
              "<table border=\"1\" class=\"dataframe\">\n",
              "  <thead>\n",
              "    <tr style=\"text-align: right;\">\n",
              "      <th></th>\n",
              "      <th>Review Text</th>\n",
              "      <th>Recommended IND</th>\n",
              "    </tr>\n",
              "  </thead>\n",
              "  <tbody>\n",
              "    <tr>\n",
              "      <th>0</th>\n",
              "      <td>Absolutely wonderful - silky and sexy and comf...</td>\n",
              "      <td>Recommended</td>\n",
              "    </tr>\n",
              "    <tr>\n",
              "      <th>1</th>\n",
              "      <td>Love this dress!  it's sooo pretty.  i happene...</td>\n",
              "      <td>Recommended</td>\n",
              "    </tr>\n",
              "    <tr>\n",
              "      <th>2</th>\n",
              "      <td>I had such high hopes for this dress and reall...</td>\n",
              "      <td>Not recommended</td>\n",
              "    </tr>\n",
              "    <tr>\n",
              "      <th>3</th>\n",
              "      <td>I love, love, love this jumpsuit. it's fun, fl...</td>\n",
              "      <td>Recommended</td>\n",
              "    </tr>\n",
              "    <tr>\n",
              "      <th>4</th>\n",
              "      <td>This shirt is very flattering to all due to th...</td>\n",
              "      <td>Recommended</td>\n",
              "    </tr>\n",
              "  </tbody>\n",
              "</table>\n",
              "</div>"
            ],
            "text/plain": [
              "                                         Review Text  Recommended IND\n",
              "0  Absolutely wonderful - silky and sexy and comf...      Recommended\n",
              "1  Love this dress!  it's sooo pretty.  i happene...      Recommended\n",
              "2  I had such high hopes for this dress and reall...  Not recommended\n",
              "3  I love, love, love this jumpsuit. it's fun, fl...      Recommended\n",
              "4  This shirt is very flattering to all due to th...      Recommended"
            ]
          },
          "metadata": {
            "tags": []
          },
          "execution_count": 14
        }
      ]
    },
    {
      "cell_type": "markdown",
      "metadata": {
        "id": "4weNF2bWglLx"
      },
      "source": [
        "# **Modelling and Training the Dataset**"
      ]
    },
    {
      "cell_type": "code",
      "metadata": {
        "id": "AhJ6h6S_HErA"
      },
      "source": [
        "# labeling the Recommended IND column\n",
        "for column in ['Recommended IND']:\n",
        "  dummies = pd.get_dummies(df[column])\n",
        "  df[dummies.columns] = dummies\n",
        "\n",
        "df= df.drop(columns= ['Recommended IND'])"
      ],
      "execution_count": 15,
      "outputs": []
    },
    {
      "cell_type": "code",
      "metadata": {
        "colab": {
          "base_uri": "https://localhost:8080/",
          "height": 419
        },
        "id": "YanLQD6M-z-2",
        "outputId": "8d6683f8-41a0-44b1-9c6c-ee0aba4a70f3"
      },
      "source": [
        "# check the dataframe\n",
        "df"
      ],
      "execution_count": 16,
      "outputs": [
        {
          "output_type": "execute_result",
          "data": {
            "text/html": [
              "<div>\n",
              "<style scoped>\n",
              "    .dataframe tbody tr th:only-of-type {\n",
              "        vertical-align: middle;\n",
              "    }\n",
              "\n",
              "    .dataframe tbody tr th {\n",
              "        vertical-align: top;\n",
              "    }\n",
              "\n",
              "    .dataframe thead th {\n",
              "        text-align: right;\n",
              "    }\n",
              "</style>\n",
              "<table border=\"1\" class=\"dataframe\">\n",
              "  <thead>\n",
              "    <tr style=\"text-align: right;\">\n",
              "      <th></th>\n",
              "      <th>Review Text</th>\n",
              "      <th>Not recommended</th>\n",
              "      <th>Recommended</th>\n",
              "    </tr>\n",
              "  </thead>\n",
              "  <tbody>\n",
              "    <tr>\n",
              "      <th>0</th>\n",
              "      <td>Absolutely wonderful - silky and sexy and comf...</td>\n",
              "      <td>0</td>\n",
              "      <td>1</td>\n",
              "    </tr>\n",
              "    <tr>\n",
              "      <th>1</th>\n",
              "      <td>Love this dress!  it's sooo pretty.  i happene...</td>\n",
              "      <td>0</td>\n",
              "      <td>1</td>\n",
              "    </tr>\n",
              "    <tr>\n",
              "      <th>2</th>\n",
              "      <td>I had such high hopes for this dress and reall...</td>\n",
              "      <td>1</td>\n",
              "      <td>0</td>\n",
              "    </tr>\n",
              "    <tr>\n",
              "      <th>3</th>\n",
              "      <td>I love, love, love this jumpsuit. it's fun, fl...</td>\n",
              "      <td>0</td>\n",
              "      <td>1</td>\n",
              "    </tr>\n",
              "    <tr>\n",
              "      <th>4</th>\n",
              "      <td>This shirt is very flattering to all due to th...</td>\n",
              "      <td>0</td>\n",
              "      <td>1</td>\n",
              "    </tr>\n",
              "    <tr>\n",
              "      <th>...</th>\n",
              "      <td>...</td>\n",
              "      <td>...</td>\n",
              "      <td>...</td>\n",
              "    </tr>\n",
              "    <tr>\n",
              "      <th>23481</th>\n",
              "      <td>I was very happy to snag this dress at such a ...</td>\n",
              "      <td>0</td>\n",
              "      <td>1</td>\n",
              "    </tr>\n",
              "    <tr>\n",
              "      <th>23482</th>\n",
              "      <td>It reminds me of maternity clothes. soft, stre...</td>\n",
              "      <td>0</td>\n",
              "      <td>1</td>\n",
              "    </tr>\n",
              "    <tr>\n",
              "      <th>23483</th>\n",
              "      <td>This fit well, but the top was very see throug...</td>\n",
              "      <td>1</td>\n",
              "      <td>0</td>\n",
              "    </tr>\n",
              "    <tr>\n",
              "      <th>23484</th>\n",
              "      <td>I bought this dress for a wedding i have this ...</td>\n",
              "      <td>0</td>\n",
              "      <td>1</td>\n",
              "    </tr>\n",
              "    <tr>\n",
              "      <th>23485</th>\n",
              "      <td>This dress in a lovely platinum is feminine an...</td>\n",
              "      <td>0</td>\n",
              "      <td>1</td>\n",
              "    </tr>\n",
              "  </tbody>\n",
              "</table>\n",
              "<p>22641 rows × 3 columns</p>\n",
              "</div>"
            ],
            "text/plain": [
              "                                             Review Text  ...  Recommended\n",
              "0      Absolutely wonderful - silky and sexy and comf...  ...            1\n",
              "1      Love this dress!  it's sooo pretty.  i happene...  ...            1\n",
              "2      I had such high hopes for this dress and reall...  ...            0\n",
              "3      I love, love, love this jumpsuit. it's fun, fl...  ...            1\n",
              "4      This shirt is very flattering to all due to th...  ...            1\n",
              "...                                                  ...  ...          ...\n",
              "23481  I was very happy to snag this dress at such a ...  ...            1\n",
              "23482  It reminds me of maternity clothes. soft, stre...  ...            1\n",
              "23483  This fit well, but the top was very see throug...  ...            0\n",
              "23484  I bought this dress for a wedding i have this ...  ...            1\n",
              "23485  This dress in a lovely platinum is feminine an...  ...            1\n",
              "\n",
              "[22641 rows x 3 columns]"
            ]
          },
          "metadata": {
            "tags": []
          },
          "execution_count": 16
        }
      ]
    },
    {
      "cell_type": "code",
      "metadata": {
        "id": "Tgu9jus0IkAO"
      },
      "source": [
        "# change data type\n",
        "text = df['Review Text'].values\n",
        "label = df[['Not recommended', 'Recommended']].values"
      ],
      "execution_count": 17,
      "outputs": []
    },
    {
      "cell_type": "code",
      "metadata": {
        "id": "nQuCNR-Ri6oy"
      },
      "source": [
        "from sklearn.model_selection import train_test_split"
      ],
      "execution_count": 19,
      "outputs": []
    },
    {
      "cell_type": "code",
      "metadata": {
        "id": "gEGTm9uGiLyr"
      },
      "source": [
        "# split dataset 20% test / validation\n",
        "genre_train, genre_test, label_train, label_test = train_test_split(text, label, test_size = 0.2)"
      ],
      "execution_count": 20,
      "outputs": []
    },
    {
      "cell_type": "code",
      "metadata": {
        "id": "LpuED0Majix_"
      },
      "source": [
        "# use tokenizer and convert to sequence\n",
        "from keras.preprocessing.text import Tokenizer\n",
        "from keras.preprocessing.sequence import pad_sequences\n",
        "\n",
        "tokenizer = Tokenizer(num_words=5000, oov_token='x')\n",
        "tokenizer.fit_on_texts(genre_train) \n",
        "tokenizer.fit_on_texts(genre_test)\n",
        " \n",
        "sekuens_train = tokenizer.texts_to_sequences(genre_train)\n",
        "sekuens_test = tokenizer.texts_to_sequences(genre_test)\n",
        " \n",
        "padded_train = pad_sequences(sekuens_train) \n",
        "padded_test = pad_sequences(sekuens_test)"
      ],
      "execution_count": 21,
      "outputs": []
    },
    {
      "cell_type": "code",
      "metadata": {
        "id": "p3siHBgokKb7"
      },
      "source": [
        "# modelling sequential with embedding and LSTM\n",
        "model = Sequential([\n",
        "    Embedding(input_dim=5000, output_dim=16),\n",
        "    LSTM(64),\n",
        "    Dense(128, activation='relu'),\n",
        "    Dropout(0.5),\n",
        "    Dense(2, activation='softmax')\n",
        "])"
      ],
      "execution_count": 25,
      "outputs": []
    },
    {
      "cell_type": "code",
      "metadata": {
        "id": "3_ep0V36mOzf"
      },
      "source": [
        "# modelling compile with optimizer adam\n",
        "Adam(learning_rate=0.00146, name='Adam')\n",
        "model.compile(optimizer = 'Adam',loss = 'categorical_crossentropy',metrics = ['accuracy'])"
      ],
      "execution_count": 26,
      "outputs": []
    },
    {
      "cell_type": "code",
      "metadata": {
        "id": "HfDc-qmUnMW5"
      },
      "source": [
        "# using callback for accuracy and validation above 90%\n",
        "class myCallback(tf.keras.callbacks.Callback):\n",
        "  def on_epoch_end(self, epoch, logs={}):\n",
        "    if(logs.get('accuracy')>0.9 and logs.get('val_accuracy')>0.9):\n",
        "      print(\"\\nAkurasi train dan validasi didapat telah mencapai nilai > 90%!\")\n",
        "      self.model.stop_training = True\n",
        "callbacks = myCallback()"
      ],
      "execution_count": 27,
      "outputs": []
    },
    {
      "cell_type": "code",
      "metadata": {
        "id": "_escEh8RnNj8",
        "colab": {
          "base_uri": "https://localhost:8080/"
        },
        "outputId": "c52991d3-2f4d-4c01-a31c-6b10f00cecfb"
      },
      "source": [
        "# train the model\n",
        "num_epochs = 30\n",
        "history = model.fit(padded_train, label_train, epochs=num_epochs, validation_data=(padded_test, label_test), verbose=2, callbacks=[callbacks])"
      ],
      "execution_count": 28,
      "outputs": [
        {
          "output_type": "stream",
          "text": [
            "Epoch 1/30\n",
            "566/566 - 78s - loss: 0.3328 - accuracy: 0.8610 - val_loss: 0.2557 - val_accuracy: 0.8850\n",
            "Epoch 2/30\n",
            "566/566 - 52s - loss: 0.2224 - accuracy: 0.9107 - val_loss: 0.2556 - val_accuracy: 0.8892\n",
            "Epoch 3/30\n",
            "566/566 - 52s - loss: 0.1913 - accuracy: 0.9215 - val_loss: 0.2660 - val_accuracy: 0.8805\n",
            "Epoch 4/30\n",
            "566/566 - 52s - loss: 0.1689 - accuracy: 0.9341 - val_loss: 0.2867 - val_accuracy: 0.8914\n",
            "Epoch 5/30\n",
            "566/566 - 52s - loss: 0.1496 - accuracy: 0.9416 - val_loss: 0.3080 - val_accuracy: 0.8828\n",
            "Epoch 6/30\n",
            "566/566 - 52s - loss: 0.1295 - accuracy: 0.9531 - val_loss: 0.3402 - val_accuracy: 0.8856\n",
            "Epoch 7/30\n",
            "566/566 - 52s - loss: 0.1123 - accuracy: 0.9591 - val_loss: 0.3769 - val_accuracy: 0.8845\n",
            "Epoch 8/30\n",
            "566/566 - 52s - loss: 0.0975 - accuracy: 0.9659 - val_loss: 0.3935 - val_accuracy: 0.8783\n",
            "Epoch 9/30\n",
            "566/566 - 52s - loss: 0.0846 - accuracy: 0.9702 - val_loss: 0.4512 - val_accuracy: 0.8779\n",
            "Epoch 10/30\n",
            "566/566 - 52s - loss: 0.0750 - accuracy: 0.9732 - val_loss: 0.4932 - val_accuracy: 0.8792\n",
            "Epoch 11/30\n",
            "566/566 - 52s - loss: 0.0669 - accuracy: 0.9770 - val_loss: 0.5303 - val_accuracy: 0.8688\n",
            "Epoch 12/30\n",
            "566/566 - 52s - loss: 0.0650 - accuracy: 0.9779 - val_loss: 0.4912 - val_accuracy: 0.8693\n",
            "Epoch 13/30\n",
            "566/566 - 52s - loss: 0.0496 - accuracy: 0.9835 - val_loss: 0.5370 - val_accuracy: 0.8691\n",
            "Epoch 14/30\n",
            "566/566 - 52s - loss: 0.0350 - accuracy: 0.9885 - val_loss: 0.6916 - val_accuracy: 0.8781\n",
            "Epoch 15/30\n",
            "566/566 - 52s - loss: 0.0446 - accuracy: 0.9852 - val_loss: 0.6106 - val_accuracy: 0.8627\n",
            "Epoch 16/30\n",
            "566/566 - 52s - loss: 0.0310 - accuracy: 0.9902 - val_loss: 0.6478 - val_accuracy: 0.8702\n",
            "Epoch 17/30\n",
            "566/566 - 52s - loss: 0.0280 - accuracy: 0.9902 - val_loss: 0.7519 - val_accuracy: 0.8759\n",
            "Epoch 18/30\n",
            "566/566 - 52s - loss: 0.0238 - accuracy: 0.9925 - val_loss: 0.7254 - val_accuracy: 0.8783\n",
            "Epoch 19/30\n",
            "566/566 - 52s - loss: 0.0244 - accuracy: 0.9923 - val_loss: 0.7074 - val_accuracy: 0.8653\n",
            "Epoch 20/30\n",
            "566/566 - 52s - loss: 0.0152 - accuracy: 0.9948 - val_loss: 0.8440 - val_accuracy: 0.8724\n",
            "Epoch 21/30\n",
            "566/566 - 52s - loss: 0.0182 - accuracy: 0.9944 - val_loss: 0.7808 - val_accuracy: 0.8631\n",
            "Epoch 22/30\n",
            "566/566 - 52s - loss: 0.0195 - accuracy: 0.9941 - val_loss: 0.8602 - val_accuracy: 0.8688\n",
            "Epoch 23/30\n",
            "566/566 - 52s - loss: 0.0155 - accuracy: 0.9949 - val_loss: 0.8910 - val_accuracy: 0.8649\n",
            "Epoch 24/30\n",
            "566/566 - 52s - loss: 0.0237 - accuracy: 0.9915 - val_loss: 0.7885 - val_accuracy: 0.8658\n",
            "Epoch 25/30\n",
            "566/566 - 52s - loss: 0.0068 - accuracy: 0.9984 - val_loss: 1.0521 - val_accuracy: 0.8708\n",
            "Epoch 26/30\n",
            "566/566 - 52s - loss: 0.0104 - accuracy: 0.9970 - val_loss: 0.9500 - val_accuracy: 0.8691\n",
            "Epoch 27/30\n",
            "566/566 - 52s - loss: 0.0070 - accuracy: 0.9978 - val_loss: 0.9636 - val_accuracy: 0.8620\n",
            "Epoch 28/30\n",
            "566/566 - 52s - loss: 0.0196 - accuracy: 0.9940 - val_loss: 0.8149 - val_accuracy: 0.8596\n",
            "Epoch 29/30\n",
            "566/566 - 52s - loss: 0.0119 - accuracy: 0.9967 - val_loss: 0.9280 - val_accuracy: 0.8722\n",
            "Epoch 30/30\n",
            "566/566 - 52s - loss: 0.0069 - accuracy: 0.9976 - val_loss: 1.0871 - val_accuracy: 0.8677\n"
          ],
          "name": "stdout"
        }
      ]
    },
    {
      "cell_type": "markdown",
      "metadata": {
        "id": "UoRhaeLAgxtj"
      },
      "source": [
        "# **Plotting Accuracy**"
      ]
    },
    {
      "cell_type": "code",
      "metadata": {
        "id": "N1Q90L3AyExF",
        "colab": {
          "base_uri": "https://localhost:8080/",
          "height": 573
        },
        "outputId": "eba4bb6e-be99-4ef8-f83d-78a4e1b699cd"
      },
      "source": [
        "# Plot Accuracy\n",
        "plt.plot(history.history['accuracy'])\n",
        "plt.plot(history.history['val_accuracy'])\n",
        "plt.title('Akurasi Model')\n",
        "plt.ylabel('accuracy')\n",
        "plt.xlabel('epoch')\n",
        "plt.legend(['train', 'test'], loc='upper left')\n",
        "plt.show()\n",
        "\n",
        "# Plot Loss\n",
        "plt.plot(history.history['loss'])\n",
        "plt.plot(history.history['val_loss'])\n",
        "plt.title('Loss Model')\n",
        "plt.ylabel('loss')\n",
        "plt.xlabel('epoch')\n",
        "plt.legend(['train', 'test'], loc='upper left')\n",
        "plt.show()"
      ],
      "execution_count": 29,
      "outputs": [
        {
          "output_type": "display_data",
          "data": {
            "image/png": "[encoded data removed]",
            "text/plain": [
              "<Figure size 432x288 with 1 Axes>"
            ]
          },
          "metadata": {
            "tags": [],
            "needs_background": "light"
          }
        },
        {
          "output_type": "display_data",
          "data": {
            "image/png": "[encoded data removed]",
            "text/plain": [
              "<Figure size 432x288 with 1 Axes>"
            ]
          },
          "metadata": {
            "tags": [],
            "needs_background": "light"
          }
        }
      ]
    }
  ]
}